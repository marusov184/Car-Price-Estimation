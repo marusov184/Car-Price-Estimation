{
 "cells": [
  {
   "cell_type": "markdown",
   "metadata": {},
   "source": [
    "# Определение стоимости автомобилей"
   ]
  },
  {
   "cell_type": "markdown",
   "metadata": {},
   "source": [
    "Сервис по продаже автомобилей с пробегом «Не бит, не крашен» разрабатывает приложение для привлечения новых клиентов. В нём можно быстро узнать рыночную стоимость своего автомобиля. В вашем распоряжении исторические данные: технические характеристики, комплектации и цены автомобилей. Вам нужно построить модель для определения стоимости. \n",
    "\n",
    "Заказчику важны:\n",
    "\n",
    "- качество предсказания;\n",
    "- скорость предсказания;\n",
    "- время обучения."
   ]
  },
  {
   "cell_type": "markdown",
   "metadata": {},
   "source": [
    "## Подготовка данных"
   ]
  },
  {
   "cell_type": "markdown",
   "metadata": {},
   "source": [
    "Загрузим необходимые библиотеки, а также посмотрим на данные и их структуру."
   ]
  },
  {
   "cell_type": "code",
   "execution_count": 1,
   "metadata": {},
   "outputs": [],
   "source": [
    "import time\n",
    "import pandas as pd\n",
    "import numpy as np\n",
    "import matplotlib.pyplot as plt\n",
    "import seaborn as sns\n",
    "\n",
    "import warnings\n",
    "warnings.filterwarnings(\"ignore\")\n",
    "\n",
    "from sklearn.preprocessing import StandardScaler\n",
    "from sklearn.model_selection import train_test_split, cross_val_score, GridSearchCV\n",
    "from sklearn.metrics import mean_squared_error as mse\n",
    "from sklearn.tree import DecisionTreeRegressor\n",
    "from sklearn.linear_model import LinearRegression\n",
    "\n",
    "import lightgbm as lgb\n"
   ]
  },
  {
   "cell_type": "code",
   "execution_count": 2,
   "metadata": {},
   "outputs": [
    {
     "data": {
      "text/html": [
       "<div>\n",
       "<style scoped>\n",
       "    .dataframe tbody tr th:only-of-type {\n",
       "        vertical-align: middle;\n",
       "    }\n",
       "\n",
       "    .dataframe tbody tr th {\n",
       "        vertical-align: top;\n",
       "    }\n",
       "\n",
       "    .dataframe thead th {\n",
       "        text-align: right;\n",
       "    }\n",
       "</style>\n",
       "<table border=\"1\" class=\"dataframe\">\n",
       "  <thead>\n",
       "    <tr style=\"text-align: right;\">\n",
       "      <th></th>\n",
       "      <th>DateCrawled</th>\n",
       "      <th>Price</th>\n",
       "      <th>VehicleType</th>\n",
       "      <th>RegistrationYear</th>\n",
       "      <th>Gearbox</th>\n",
       "      <th>Power</th>\n",
       "      <th>Model</th>\n",
       "      <th>Kilometer</th>\n",
       "      <th>RegistrationMonth</th>\n",
       "      <th>FuelType</th>\n",
       "      <th>Brand</th>\n",
       "      <th>NotRepaired</th>\n",
       "      <th>DateCreated</th>\n",
       "      <th>NumberOfPictures</th>\n",
       "      <th>PostalCode</th>\n",
       "      <th>LastSeen</th>\n",
       "    </tr>\n",
       "  </thead>\n",
       "  <tbody>\n",
       "    <tr>\n",
       "      <th>0</th>\n",
       "      <td>2016-03-24 11:52:17</td>\n",
       "      <td>480</td>\n",
       "      <td>NaN</td>\n",
       "      <td>1993</td>\n",
       "      <td>manual</td>\n",
       "      <td>0</td>\n",
       "      <td>golf</td>\n",
       "      <td>150000</td>\n",
       "      <td>0</td>\n",
       "      <td>petrol</td>\n",
       "      <td>volkswagen</td>\n",
       "      <td>NaN</td>\n",
       "      <td>2016-03-24</td>\n",
       "      <td>0</td>\n",
       "      <td>70435</td>\n",
       "      <td>2016-04-07 03:16:57</td>\n",
       "    </tr>\n",
       "    <tr>\n",
       "      <th>1</th>\n",
       "      <td>2016-03-24 10:58:45</td>\n",
       "      <td>18300</td>\n",
       "      <td>coupe</td>\n",
       "      <td>2011</td>\n",
       "      <td>manual</td>\n",
       "      <td>190</td>\n",
       "      <td>NaN</td>\n",
       "      <td>125000</td>\n",
       "      <td>5</td>\n",
       "      <td>gasoline</td>\n",
       "      <td>audi</td>\n",
       "      <td>yes</td>\n",
       "      <td>2016-03-24</td>\n",
       "      <td>0</td>\n",
       "      <td>66954</td>\n",
       "      <td>2016-04-07 01:46:50</td>\n",
       "    </tr>\n",
       "    <tr>\n",
       "      <th>2</th>\n",
       "      <td>2016-03-14 12:52:21</td>\n",
       "      <td>9800</td>\n",
       "      <td>suv</td>\n",
       "      <td>2004</td>\n",
       "      <td>auto</td>\n",
       "      <td>163</td>\n",
       "      <td>grand</td>\n",
       "      <td>125000</td>\n",
       "      <td>8</td>\n",
       "      <td>gasoline</td>\n",
       "      <td>jeep</td>\n",
       "      <td>NaN</td>\n",
       "      <td>2016-03-14</td>\n",
       "      <td>0</td>\n",
       "      <td>90480</td>\n",
       "      <td>2016-04-05 12:47:46</td>\n",
       "    </tr>\n",
       "    <tr>\n",
       "      <th>3</th>\n",
       "      <td>2016-03-17 16:54:04</td>\n",
       "      <td>1500</td>\n",
       "      <td>small</td>\n",
       "      <td>2001</td>\n",
       "      <td>manual</td>\n",
       "      <td>75</td>\n",
       "      <td>golf</td>\n",
       "      <td>150000</td>\n",
       "      <td>6</td>\n",
       "      <td>petrol</td>\n",
       "      <td>volkswagen</td>\n",
       "      <td>no</td>\n",
       "      <td>2016-03-17</td>\n",
       "      <td>0</td>\n",
       "      <td>91074</td>\n",
       "      <td>2016-03-17 17:40:17</td>\n",
       "    </tr>\n",
       "    <tr>\n",
       "      <th>4</th>\n",
       "      <td>2016-03-31 17:25:20</td>\n",
       "      <td>3600</td>\n",
       "      <td>small</td>\n",
       "      <td>2008</td>\n",
       "      <td>manual</td>\n",
       "      <td>69</td>\n",
       "      <td>fabia</td>\n",
       "      <td>90000</td>\n",
       "      <td>7</td>\n",
       "      <td>gasoline</td>\n",
       "      <td>skoda</td>\n",
       "      <td>no</td>\n",
       "      <td>2016-03-31</td>\n",
       "      <td>0</td>\n",
       "      <td>60437</td>\n",
       "      <td>2016-04-06 10:17:21</td>\n",
       "    </tr>\n",
       "    <tr>\n",
       "      <th>5</th>\n",
       "      <td>2016-04-04 17:36:23</td>\n",
       "      <td>650</td>\n",
       "      <td>sedan</td>\n",
       "      <td>1995</td>\n",
       "      <td>manual</td>\n",
       "      <td>102</td>\n",
       "      <td>3er</td>\n",
       "      <td>150000</td>\n",
       "      <td>10</td>\n",
       "      <td>petrol</td>\n",
       "      <td>bmw</td>\n",
       "      <td>yes</td>\n",
       "      <td>2016-04-04</td>\n",
       "      <td>0</td>\n",
       "      <td>33775</td>\n",
       "      <td>2016-04-06 19:17:07</td>\n",
       "    </tr>\n",
       "    <tr>\n",
       "      <th>6</th>\n",
       "      <td>2016-04-01 20:48:51</td>\n",
       "      <td>2200</td>\n",
       "      <td>convertible</td>\n",
       "      <td>2004</td>\n",
       "      <td>manual</td>\n",
       "      <td>109</td>\n",
       "      <td>2_reihe</td>\n",
       "      <td>150000</td>\n",
       "      <td>8</td>\n",
       "      <td>petrol</td>\n",
       "      <td>peugeot</td>\n",
       "      <td>no</td>\n",
       "      <td>2016-04-01</td>\n",
       "      <td>0</td>\n",
       "      <td>67112</td>\n",
       "      <td>2016-04-05 18:18:39</td>\n",
       "    </tr>\n",
       "    <tr>\n",
       "      <th>7</th>\n",
       "      <td>2016-03-21 18:54:38</td>\n",
       "      <td>0</td>\n",
       "      <td>sedan</td>\n",
       "      <td>1980</td>\n",
       "      <td>manual</td>\n",
       "      <td>50</td>\n",
       "      <td>other</td>\n",
       "      <td>40000</td>\n",
       "      <td>7</td>\n",
       "      <td>petrol</td>\n",
       "      <td>volkswagen</td>\n",
       "      <td>no</td>\n",
       "      <td>2016-03-21</td>\n",
       "      <td>0</td>\n",
       "      <td>19348</td>\n",
       "      <td>2016-03-25 16:47:58</td>\n",
       "    </tr>\n",
       "    <tr>\n",
       "      <th>8</th>\n",
       "      <td>2016-04-04 23:42:13</td>\n",
       "      <td>14500</td>\n",
       "      <td>bus</td>\n",
       "      <td>2014</td>\n",
       "      <td>manual</td>\n",
       "      <td>125</td>\n",
       "      <td>c_max</td>\n",
       "      <td>30000</td>\n",
       "      <td>8</td>\n",
       "      <td>petrol</td>\n",
       "      <td>ford</td>\n",
       "      <td>NaN</td>\n",
       "      <td>2016-04-04</td>\n",
       "      <td>0</td>\n",
       "      <td>94505</td>\n",
       "      <td>2016-04-04 23:42:13</td>\n",
       "    </tr>\n",
       "    <tr>\n",
       "      <th>9</th>\n",
       "      <td>2016-03-17 10:53:50</td>\n",
       "      <td>999</td>\n",
       "      <td>small</td>\n",
       "      <td>1998</td>\n",
       "      <td>manual</td>\n",
       "      <td>101</td>\n",
       "      <td>golf</td>\n",
       "      <td>150000</td>\n",
       "      <td>0</td>\n",
       "      <td>NaN</td>\n",
       "      <td>volkswagen</td>\n",
       "      <td>NaN</td>\n",
       "      <td>2016-03-17</td>\n",
       "      <td>0</td>\n",
       "      <td>27472</td>\n",
       "      <td>2016-03-31 17:17:06</td>\n",
       "    </tr>\n",
       "  </tbody>\n",
       "</table>\n",
       "</div>"
      ],
      "text/plain": [
       "          DateCrawled  Price  VehicleType  RegistrationYear Gearbox  Power  \\\n",
       "0 2016-03-24 11:52:17    480          NaN              1993  manual      0   \n",
       "1 2016-03-24 10:58:45  18300        coupe              2011  manual    190   \n",
       "2 2016-03-14 12:52:21   9800          suv              2004    auto    163   \n",
       "3 2016-03-17 16:54:04   1500        small              2001  manual     75   \n",
       "4 2016-03-31 17:25:20   3600        small              2008  manual     69   \n",
       "5 2016-04-04 17:36:23    650        sedan              1995  manual    102   \n",
       "6 2016-04-01 20:48:51   2200  convertible              2004  manual    109   \n",
       "7 2016-03-21 18:54:38      0        sedan              1980  manual     50   \n",
       "8 2016-04-04 23:42:13  14500          bus              2014  manual    125   \n",
       "9 2016-03-17 10:53:50    999        small              1998  manual    101   \n",
       "\n",
       "     Model  Kilometer  RegistrationMonth  FuelType       Brand NotRepaired  \\\n",
       "0     golf     150000                  0    petrol  volkswagen         NaN   \n",
       "1      NaN     125000                  5  gasoline        audi         yes   \n",
       "2    grand     125000                  8  gasoline        jeep         NaN   \n",
       "3     golf     150000                  6    petrol  volkswagen          no   \n",
       "4    fabia      90000                  7  gasoline       skoda          no   \n",
       "5      3er     150000                 10    petrol         bmw         yes   \n",
       "6  2_reihe     150000                  8    petrol     peugeot          no   \n",
       "7    other      40000                  7    petrol  volkswagen          no   \n",
       "8    c_max      30000                  8    petrol        ford         NaN   \n",
       "9     golf     150000                  0       NaN  volkswagen         NaN   \n",
       "\n",
       "  DateCreated  NumberOfPictures  PostalCode            LastSeen  \n",
       "0  2016-03-24                 0       70435 2016-04-07 03:16:57  \n",
       "1  2016-03-24                 0       66954 2016-04-07 01:46:50  \n",
       "2  2016-03-14                 0       90480 2016-04-05 12:47:46  \n",
       "3  2016-03-17                 0       91074 2016-03-17 17:40:17  \n",
       "4  2016-03-31                 0       60437 2016-04-06 10:17:21  \n",
       "5  2016-04-04                 0       33775 2016-04-06 19:17:07  \n",
       "6  2016-04-01                 0       67112 2016-04-05 18:18:39  \n",
       "7  2016-03-21                 0       19348 2016-03-25 16:47:58  \n",
       "8  2016-04-04                 0       94505 2016-04-04 23:42:13  \n",
       "9  2016-03-17                 0       27472 2016-03-31 17:17:06  "
      ]
     },
     "execution_count": 2,
     "metadata": {},
     "output_type": "execute_result"
    }
   ],
   "source": [
    "df = pd.read_csv(r'C:\\Users\\dkiro\\Desktop\\проект\\autos.csv', parse_dates = [0, 12, 15])\n",
    "df.head(10)"
   ]
  },
  {
   "cell_type": "code",
   "execution_count": 3,
   "metadata": {},
   "outputs": [
    {
     "name": "stdout",
     "output_type": "stream",
     "text": [
      "<class 'pandas.core.frame.DataFrame'>\n",
      "RangeIndex: 354369 entries, 0 to 354368\n",
      "Data columns (total 16 columns):\n",
      " #   Column             Non-Null Count   Dtype         \n",
      "---  ------             --------------   -----         \n",
      " 0   DateCrawled        354369 non-null  datetime64[ns]\n",
      " 1   Price              354369 non-null  int64         \n",
      " 2   VehicleType        316879 non-null  object        \n",
      " 3   RegistrationYear   354369 non-null  int64         \n",
      " 4   Gearbox            334536 non-null  object        \n",
      " 5   Power              354369 non-null  int64         \n",
      " 6   Model              334664 non-null  object        \n",
      " 7   Kilometer          354369 non-null  int64         \n",
      " 8   RegistrationMonth  354369 non-null  int64         \n",
      " 9   FuelType           321474 non-null  object        \n",
      " 10  Brand              354369 non-null  object        \n",
      " 11  NotRepaired        283215 non-null  object        \n",
      " 12  DateCreated        354369 non-null  datetime64[ns]\n",
      " 13  NumberOfPictures   354369 non-null  int64         \n",
      " 14  PostalCode         354369 non-null  int64         \n",
      " 15  LastSeen           354369 non-null  datetime64[ns]\n",
      "dtypes: datetime64[ns](3), int64(7), object(6)\n",
      "memory usage: 43.3+ MB\n"
     ]
    }
   ],
   "source": [
    "df.info()"
   ]
  },
  {
   "cell_type": "markdown",
   "metadata": {},
   "source": [
    "Посмотрим, в каких переменных находятся пропуски, а также % пропусков от общего числа наблюдений в датасете"
   ]
  },
  {
   "cell_type": "code",
   "execution_count": 4,
   "metadata": {},
   "outputs": [
    {
     "data": {
      "text/html": [
       "<div>\n",
       "<style scoped>\n",
       "    .dataframe tbody tr th:only-of-type {\n",
       "        vertical-align: middle;\n",
       "    }\n",
       "\n",
       "    .dataframe tbody tr th {\n",
       "        vertical-align: top;\n",
       "    }\n",
       "\n",
       "    .dataframe thead th {\n",
       "        text-align: right;\n",
       "    }\n",
       "</style>\n",
       "<table border=\"1\" class=\"dataframe\">\n",
       "  <thead>\n",
       "    <tr style=\"text-align: right;\">\n",
       "      <th></th>\n",
       "      <th>0</th>\n",
       "      <th>%</th>\n",
       "    </tr>\n",
       "  </thead>\n",
       "  <tbody>\n",
       "    <tr>\n",
       "      <th>DateCrawled</th>\n",
       "      <td>0</td>\n",
       "      <td>0.00</td>\n",
       "    </tr>\n",
       "    <tr>\n",
       "      <th>Price</th>\n",
       "      <td>0</td>\n",
       "      <td>0.00</td>\n",
       "    </tr>\n",
       "    <tr>\n",
       "      <th>VehicleType</th>\n",
       "      <td>37490</td>\n",
       "      <td>10.58</td>\n",
       "    </tr>\n",
       "    <tr>\n",
       "      <th>RegistrationYear</th>\n",
       "      <td>0</td>\n",
       "      <td>0.00</td>\n",
       "    </tr>\n",
       "    <tr>\n",
       "      <th>Gearbox</th>\n",
       "      <td>19833</td>\n",
       "      <td>5.60</td>\n",
       "    </tr>\n",
       "    <tr>\n",
       "      <th>Power</th>\n",
       "      <td>0</td>\n",
       "      <td>0.00</td>\n",
       "    </tr>\n",
       "    <tr>\n",
       "      <th>Model</th>\n",
       "      <td>19705</td>\n",
       "      <td>5.56</td>\n",
       "    </tr>\n",
       "    <tr>\n",
       "      <th>Kilometer</th>\n",
       "      <td>0</td>\n",
       "      <td>0.00</td>\n",
       "    </tr>\n",
       "    <tr>\n",
       "      <th>RegistrationMonth</th>\n",
       "      <td>0</td>\n",
       "      <td>0.00</td>\n",
       "    </tr>\n",
       "    <tr>\n",
       "      <th>FuelType</th>\n",
       "      <td>32895</td>\n",
       "      <td>9.28</td>\n",
       "    </tr>\n",
       "    <tr>\n",
       "      <th>Brand</th>\n",
       "      <td>0</td>\n",
       "      <td>0.00</td>\n",
       "    </tr>\n",
       "    <tr>\n",
       "      <th>NotRepaired</th>\n",
       "      <td>71154</td>\n",
       "      <td>20.08</td>\n",
       "    </tr>\n",
       "    <tr>\n",
       "      <th>DateCreated</th>\n",
       "      <td>0</td>\n",
       "      <td>0.00</td>\n",
       "    </tr>\n",
       "    <tr>\n",
       "      <th>NumberOfPictures</th>\n",
       "      <td>0</td>\n",
       "      <td>0.00</td>\n",
       "    </tr>\n",
       "    <tr>\n",
       "      <th>PostalCode</th>\n",
       "      <td>0</td>\n",
       "      <td>0.00</td>\n",
       "    </tr>\n",
       "    <tr>\n",
       "      <th>LastSeen</th>\n",
       "      <td>0</td>\n",
       "      <td>0.00</td>\n",
       "    </tr>\n",
       "  </tbody>\n",
       "</table>\n",
       "</div>"
      ],
      "text/plain": [
       "                       0      %\n",
       "DateCrawled            0   0.00\n",
       "Price                  0   0.00\n",
       "VehicleType        37490  10.58\n",
       "RegistrationYear       0   0.00\n",
       "Gearbox            19833   5.60\n",
       "Power                  0   0.00\n",
       "Model              19705   5.56\n",
       "Kilometer              0   0.00\n",
       "RegistrationMonth      0   0.00\n",
       "FuelType           32895   9.28\n",
       "Brand                  0   0.00\n",
       "NotRepaired        71154  20.08\n",
       "DateCreated            0   0.00\n",
       "NumberOfPictures       0   0.00\n",
       "PostalCode             0   0.00\n",
       "LastSeen               0   0.00"
      ]
     },
     "execution_count": 4,
     "metadata": {},
     "output_type": "execute_result"
    }
   ],
   "source": [
    "missings = pd.DataFrame(df.isna().sum())\n",
    "missings['%'] = round(missings/len(df) * 100, 2)\n",
    "missings"
   ]
  },
  {
   "cell_type": "markdown",
   "metadata": {},
   "source": [
    "Пропуски находятся в 5 переменных, причем все они категориальные. Количество пропусков варьируется от 5 до 20%. Удалять строки мы не будем, поскольку в этом случае мы потеряем слишком много информации. Заполнять пропуски наиболее часто встречающимся значением тоже рискованно, поскольку может быть сильный перекос в сторону этого значения в переменной. Заполним пропуски в этих переменных простым 'unknown' и будем рассматривать это как отдельную категорию"
   ]
  },
  {
   "cell_type": "code",
   "execution_count": 5,
   "metadata": {},
   "outputs": [
    {
     "data": {
      "text/plain": [
       "Index(['datecrawled', 'price', 'vehicletype', 'registrationyear', 'gearbox',\n",
       "       'power', 'model', 'kilometer', 'registrationmonth', 'fueltype', 'brand',\n",
       "       'notrepaired', 'datecreated', 'numberofpictures', 'postalcode',\n",
       "       'lastseen'],\n",
       "      dtype='object')"
      ]
     },
     "execution_count": 5,
     "metadata": {},
     "output_type": "execute_result"
    }
   ],
   "source": [
    "df.columns = df.columns.str.lower() # приводим названия столбцов в нижний регистр для удобства\n",
    "df.columns"
   ]
  },
  {
   "cell_type": "code",
   "execution_count": 6,
   "metadata": {
    "scrolled": true
   },
   "outputs": [],
   "source": [
    "missing_vars = [\n",
    "    'vehicletype',\n",
    "    'gearbox',\n",
    "    'model',\n",
    "    'fueltype',\n",
    "    'notrepaired',\n",
    "] \n",
    "\n",
    "for var in missing_vars:\n",
    "    df[var] = df[var].fillna('unknown')"
   ]
  },
  {
   "cell_type": "code",
   "execution_count": 7,
   "metadata": {
    "scrolled": true
   },
   "outputs": [
    {
     "data": {
      "text/plain": [
       "datecrawled          0\n",
       "price                0\n",
       "vehicletype          0\n",
       "registrationyear     0\n",
       "gearbox              0\n",
       "power                0\n",
       "model                0\n",
       "kilometer            0\n",
       "registrationmonth    0\n",
       "fueltype             0\n",
       "brand                0\n",
       "notrepaired          0\n",
       "datecreated          0\n",
       "numberofpictures     0\n",
       "postalcode           0\n",
       "lastseen             0\n",
       "dtype: int64"
      ]
     },
     "execution_count": 7,
     "metadata": {},
     "output_type": "execute_result"
    }
   ],
   "source": [
    "df.isna().sum()"
   ]
  },
  {
   "cell_type": "code",
   "execution_count": 8,
   "metadata": {},
   "outputs": [],
   "source": [
    "df = df.drop('numberofpictures', axis = 1) # неинформативный столбец, одно нулевое значение\n"
   ]
  },
  {
   "cell_type": "markdown",
   "metadata": {},
   "source": [
    "Посмотрим теперь, есть ли выбросы в количественных переменных **price, power, kilometer**."
   ]
  },
  {
   "cell_type": "code",
   "execution_count": 9,
   "metadata": {},
   "outputs": [],
   "source": [
    "def hist_box(var):\n",
    "    \n",
    "    \"\"\"\n",
    "    Функция строит совместные боксплоты и гистограммы\n",
    "    для выбранных переменных. Переменные передаются в\n",
    "    функцию как строки.\n",
    "    \n",
    "    \"\"\"\n",
    "    \n",
    "    sns.set(style=\"ticks\")\n",
    "\n",
    "    f, (ax_box, ax_hist) = plt.subplots(2, sharex=True, \n",
    "                                        gridspec_kw={\"height_ratios\": (.85, 1.85)})\n",
    "\n",
    "    sns.boxplot(df[var], ax=ax_box)\n",
    "    sns.distplot(df[var], ax=ax_hist)\n",
    "\n",
    "    ax_box.set(yticks=[])\n",
    "    sns.despine(ax=ax_hist)\n",
    "    sns.despine(ax=ax_box, left=True)"
   ]
  },
  {
   "cell_type": "code",
   "execution_count": 10,
   "metadata": {},
   "outputs": [
    {
     "data": {
      "image/png": "[encoded data removed]",
      "text/plain": [
       "<Figure size 432x288 with 2 Axes>"
      ]
     },
     "metadata": {},
     "output_type": "display_data"
    },
    {
     "data": {
      "image/png": "[encoded data removed]",
      "text/plain": [
       "<Figure size 432x288 with 2 Axes>"
      ]
     },
     "metadata": {},
     "output_type": "display_data"
    },
    {
     "data": {
      "image/png": "[encoded data removed]",
      "text/plain": [
       "<Figure size 432x288 with 2 Axes>"
      ]
     },
     "metadata": {},
     "output_type": "display_data"
    }
   ],
   "source": [
    "hist_box('price')\n",
    "hist_box('kilometer')\n",
    "hist_box('power')\n"
   ]
  },
  {
   "cell_type": "markdown",
   "metadata": {},
   "source": [
    "Очевидно, что во всех трех переменных есть существенное количество выбросов. Если мы будем удалять их по межквартильному правилу, то потеряем слишком много данных. Поэтому просто ограничим сверху переменную **price**, а переменную **kilometer** снизу таким образом, чтобы убрать самые очевидные выбросы и при этом потерять не больше 10% данных. С переменной **power** разберемся чуть позже. "
   ]
  },
  {
   "cell_type": "code",
   "execution_count": 11,
   "metadata": {},
   "outputs": [
    {
     "name": "stdout",
     "output_type": "stream",
     "text": [
      "Удалено 6.96% от изначального количества наблюдений\n"
     ]
    }
   ],
   "source": [
    "NUM_OF_OBS = 354369\n",
    "\n",
    "# Ограничения сверху и снизу подбирались эмпирически с учетом гистограмм и боксплотов переменных\n",
    "\n",
    "df = df[df['price'] <= 18000]\n",
    "df = df[df['kilometer'] >= 50000]\n",
    "perc = round((1-len(df)/NUM_OF_OBS) * 100, 2)\n",
    "print(f'Удалено {perc}% от изначального количества наблюдений')"
   ]
  },
  {
   "cell_type": "markdown",
   "metadata": {},
   "source": [
    "Мы удалили почти 7% выбросов из датасета. Теперь рассмотрим переменную **power** и несколько ее квантилей"
   ]
  },
  {
   "cell_type": "code",
   "execution_count": 12,
   "metadata": {},
   "outputs": [
    {
     "name": "stdout",
     "output_type": "stream",
     "text": [
      "Quantile 0.75  |  143.0\n",
      "\n",
      "Quantile 0.79  |  150.0\n",
      "\n",
      "Quantile 0.83  |  163.0\n",
      "\n",
      "Quantile 0.88  |  170.0\n",
      "\n",
      "Quantile 0.92  |  192.0\n",
      "\n",
      "Quantile 0.96  |  224.0\n",
      "\n",
      "Quantile 1.0  |  20000.0\n",
      "\n",
      "Количество записей в новой таблице равно 317332\n"
     ]
    }
   ],
   "source": [
    "for i in np.linspace(0.75, 1, 7):\n",
    "    print(f'Quantile {round(i, 2)}  | ', df.power.quantile(i))\n",
    "    print()\n",
    "    \n",
    "\n",
    "df = df[df['power'] < 225]\n",
    "print(f'Количество записей в новой таблице равно {len(df)}')"
   ]
  },
  {
   "cell_type": "markdown",
   "metadata": {},
   "source": [
    "Отсечем все значения переменной после 0.96-го квантиля, поскольку там уже точно содержатся только выбросы."
   ]
  },
  {
   "cell_type": "code",
   "execution_count": 13,
   "metadata": {},
   "outputs": [
    {
     "name": "stdout",
     "output_type": "stream",
     "text": [
      "Всего из таблицы удалено 10.5%\n"
     ]
    }
   ],
   "source": [
    "deleted_ratio = 1-len(df) / NUM_OF_OBS \n",
    "\n",
    "print(f'Всего из таблицы удалено {round(deleted_ratio, 3) * 100}%')"
   ]
  },
  {
   "cell_type": "code",
   "execution_count": 14,
   "metadata": {},
   "outputs": [
    {
     "data": {
      "image/png": "[encoded data removed]",
      "text/plain": [
       "<Figure size 432x288 with 2 Axes>"
      ]
     },
     "metadata": {},
     "output_type": "display_data"
    },
    {
     "data": {
      "image/png": "[encoded data removed]",
      "text/plain": [
       "<Figure size 432x288 with 2 Axes>"
      ]
     },
     "metadata": {},
     "output_type": "display_data"
    },
    {
     "data": {
      "image/png": "[encoded data removed]",
      "text/plain": [
       "<Figure size 432x288 with 2 Axes>"
      ]
     },
     "metadata": {},
     "output_type": "display_data"
    }
   ],
   "source": [
    "hist_box('price')\n",
    "hist_box('kilometer')\n",
    "hist_box('power')\n"
   ]
  },
  {
   "cell_type": "markdown",
   "metadata": {},
   "source": [
    "Ситуация с выбросами значительно улучшилась для переменной **power** - все выбросы были удалены. Также уменьшилось количество выбросов и  для остальных двух переменных, **price и kilometer**.\n",
    "\n",
    "Теперь стандартизируем количественные переменные, чтобы они были одной размерности, а для категориальных переменных проведем процедуру OHE (one-hot encoding). Также разобьем данные на тренировочную и тестовую выборки. "
   ]
  },
  {
   "cell_type": "code",
   "execution_count": 15,
   "metadata": {},
   "outputs": [],
   "source": [
    "categ = df.dtypes[df.dtypes == 'object'].index\n",
    "numeric = df.dtypes[df.dtypes == 'int64'].index"
   ]
  },
  {
   "cell_type": "code",
   "execution_count": 16,
   "metadata": {},
   "outputs": [],
   "source": [
    "for var in categ:\n",
    "    df[var] = df[var].astype('category')"
   ]
  },
  {
   "cell_type": "code",
   "execution_count": 17,
   "metadata": {},
   "outputs": [],
   "source": [
    "df_train, df_test = train_test_split(df, test_size = 0.25, random_state = 123)"
   ]
  },
  {
   "cell_type": "code",
   "execution_count": 18,
   "metadata": {},
   "outputs": [],
   "source": [
    "scaler = StandardScaler()\n",
    "scaler.fit(df_train[numeric])\n",
    "pd.options.mode.chained_assignment = None\n",
    "\n",
    "df_train[numeric] = scaler.transform(df_train[numeric])\n",
    "df_test[numeric] = scaler.transform(df_test[numeric])"
   ]
  },
  {
   "cell_type": "code",
   "execution_count": 19,
   "metadata": {},
   "outputs": [],
   "source": [
    "# Столбцы с датами также не особо информативны, поэтому не будем включать их в признаки\n",
    "X_train = df_train.drop(['price', 'datecrawled', 'lastseen', 'datecreated'], axis=1)\n",
    "X_test =  df_test.drop(['price', 'datecrawled', 'lastseen', 'datecreated'], axis=1)\n",
    "\n",
    "y_train, y_test = df_train.price, df_test.price"
   ]
  },
  {
   "cell_type": "code",
   "execution_count": 20,
   "metadata": {},
   "outputs": [],
   "source": [
    "X_train_copy, X_test_copy  = X_train.copy(), X_test.copy() "
   ]
  },
  {
   "cell_type": "code",
   "execution_count": 21,
   "metadata": {},
   "outputs": [],
   "source": [
    "X_train = pd.get_dummies(X_train, columns = categ, drop_first = True)\n",
    "X_test = pd.get_dummies( X_test, columns = categ, drop_first = True)"
   ]
  },
  {
   "cell_type": "code",
   "execution_count": 22,
   "metadata": {
    "scrolled": true
   },
   "outputs": [
    {
     "name": "stdout",
     "output_type": "stream",
     "text": [
      "(237999, 312)\n",
      "(79333, 312)\n",
      "(237999, 11)\n",
      "(79333, 11)\n"
     ]
    }
   ],
   "source": [
    "print(X_train.shape)\n",
    "print(X_test.shape)\n",
    "print(X_train_copy.shape)\n",
    "print(X_test_copy.shape)"
   ]
  },
  {
   "cell_type": "markdown",
   "metadata": {},
   "source": [
    "## Обучение и анализ моделей"
   ]
  },
  {
   "cell_type": "markdown",
   "metadata": {},
   "source": [
    "Обучим несколько моделей машинного обучения: линейную регрессию, дерево решений и градиентный бустинг."
   ]
  },
  {
   "cell_type": "code",
   "execution_count": 23,
   "metadata": {},
   "outputs": [
    {
     "name": "stdout",
     "output_type": "stream",
     "text": [
      "Время обучения линейной регрессии:  9.56\n"
     ]
    }
   ],
   "source": [
    "start = time.time()\n",
    "lr = LinearRegression()\n",
    "lr.fit(X_train, y_train)\n",
    "end = time.time()\n",
    "\n",
    "fit_time_lr = round(end - start, 2)\n",
    "\n",
    "print(\"Время обучения линейной регрессии: \" , round(fit_time_lr, 2)) "
   ]
  },
  {
   "cell_type": "code",
   "execution_count": 24,
   "metadata": {},
   "outputs": [
    {
     "name": "stdout",
     "output_type": "stream",
     "text": [
      "Время предсказания линейной регрессии:  0.23\n",
      "RMSE на тестовой выборке составляет: 0.65\n"
     ]
    }
   ],
   "source": [
    "start = time.time()\n",
    "pred_lr = lr.predict(X_test)\n",
    "end = time.time()\n",
    "\n",
    "pred_lr_time = round(end - start, 2)\n",
    "rmse_lr_test = round(mse(y_test, pred_lr) ** 0.5, 2)\n",
    "\n",
    "print(\"Время предсказания линейной регрессии: \" , round(pred_lr_time, 2)) \n",
    "print(\"RMSE на тестовой выборке составляет:\", rmse_lr_test )"
   ]
  },
  {
   "cell_type": "markdown",
   "metadata": {},
   "source": [
    "\n",
    "\n",
    "Далее обучим дерево решений и будем изменять параметр максимальной глубины дерева от 3 до 11 с шагом 2. Применим процедуру кросс-валидации."
   ]
  },
  {
   "cell_type": "code",
   "execution_count": 25,
   "metadata": {},
   "outputs": [],
   "source": [
    "dtr = DecisionTreeRegressor(random_state = 123)\n",
    "\n",
    "parametrs = {\n",
    "    'max_depth': range (3,13, 2), \n",
    "}\n",
    "grid = GridSearchCV(dtr,\n",
    "                    parametrs,\n",
    "                    scoring = 'neg_mean_squared_error',\n",
    "                    cv=5)"
   ]
  },
  {
   "cell_type": "code",
   "execution_count": 26,
   "metadata": {},
   "outputs": [
    {
     "name": "stdout",
     "output_type": "stream",
     "text": [
      "Время обучения дерева решений составляет 112.0\n"
     ]
    }
   ],
   "source": [
    "start_time = time.time()\n",
    "grid.fit(X_train, y_train)\n",
    "end_time = time.time()\n",
    "\n",
    "fit_time_dtr = end_time - start_time\n",
    "\n",
    "print('Время обучения дерева решений составляет', round(fit_time_dtr,2))"
   ]
  },
  {
   "cell_type": "code",
   "execution_count": 27,
   "metadata": {},
   "outputs": [
    {
     "name": "stdout",
     "output_type": "stream",
     "text": [
      "Oценка качества дерева решений путем кросс-валидации: 0.476\n",
      "Лучшие параметры модели: {'max_depth': 11}\n"
     ]
    }
   ],
   "source": [
    "rmse_dtr = np.sqrt(-grid.best_score_)\n",
    "print(f'Oценка качества дерева решений путем кросс-валидации: {round(rmse_dtr, 3)}')\n",
    "print(\"Лучшие параметры модели:\", grid.best_params_)"
   ]
  },
  {
   "cell_type": "code",
   "execution_count": 28,
   "metadata": {},
   "outputs": [
    {
     "name": "stdout",
     "output_type": "stream",
     "text": [
      "Время предсказания дерева решений: 0.19\n",
      "RMSE на тестовой выборке составляет: 0.48\n"
     ]
    }
   ],
   "source": [
    "start_time = time.time()\n",
    "pred_dtr = grid.predict(X_test)\n",
    "end_time = time.time()\n",
    "\n",
    "pred_dtr_time = end_time - start_time \n",
    "rmse_dtr_test = round(mse(y_test, pred_dtr) **0.5, 2)\n",
    "\n",
    "print('Время предсказания дерева решений:', round(pred_dtr_time, 2))\n",
    "print(\"RMSE на тестовой выборке составляет:\", rmse_dtr_test )"
   ]
  },
  {
   "cell_type": "markdown",
   "metadata": {},
   "source": [
    "\n",
    "И наконец обучим модель градиентного бустинга с помощью библиотеки lightGBM."
   ]
  },
  {
   "cell_type": "code",
   "execution_count": 29,
   "metadata": {},
   "outputs": [],
   "source": [
    "gb = lgb.LGBMRegressor(random_state = 123)\n",
    "\n",
    "\n",
    "params = {\n",
    "    'max_depth': [7, 11],\n",
    "    'learning_rate': [0.01, 0.1],\n",
    "}\n",
    "\n",
    "grid_gb = GridSearchCV(gb,\n",
    "                       params,\n",
    "                       scoring = 'neg_mean_squared_error',\n",
    "                       cv=5)"
   ]
  },
  {
   "cell_type": "code",
   "execution_count": 30,
   "metadata": {},
   "outputs": [
    {
     "name": "stdout",
     "output_type": "stream",
     "text": [
      "Время обучения модели градиентного бустинга: 24.85\n"
     ]
    }
   ],
   "source": [
    "start = time.time()\n",
    "grid_gb.fit(X_train_copy, y_train)\n",
    "end = time.time()\n",
    "\n",
    "fit_time_gb = round(end - start, 2)\n",
    "\n",
    "print('Время обучения модели градиентного бустинга:', fit_time_gb)"
   ]
  },
  {
   "cell_type": "code",
   "execution_count": 31,
   "metadata": {},
   "outputs": [
    {
     "name": "stdout",
     "output_type": "stream",
     "text": [
      "Oценка качества градиентного бустинга путем кросс-валидации: 0.396\n",
      "Лучшие параметры модели: {'learning_rate': 0.1, 'max_depth': 11}\n"
     ]
    }
   ],
   "source": [
    "rmse_gb = np.sqrt(-grid_gb.best_score_)\n",
    "print('Oценка качества градиентного бустинга путем кросс-валидации:' , round(rmse_gb, 3))\n",
    "print(\"Лучшие параметры модели:\", grid_gb.best_params_)"
   ]
  },
  {
   "cell_type": "markdown",
   "metadata": {},
   "source": [
    "Посмотрим на значение rmse на тестовой выборке."
   ]
  },
  {
   "cell_type": "code",
   "execution_count": 32,
   "metadata": {},
   "outputs": [
    {
     "name": "stdout",
     "output_type": "stream",
     "text": [
      "Время предсказания модели градиентного бустинга: 0.26\n"
     ]
    }
   ],
   "source": [
    "start = time.time()\n",
    "predictions_gb = grid_gb.predict(X_test_copy)\n",
    "end = time.time()\n",
    "\n",
    "pred_gb_time = round(end - start, 2)\n",
    "\n",
    "print('Время предсказания модели градиентного бустинга:', pred_gb_time)"
   ]
  },
  {
   "cell_type": "code",
   "execution_count": 33,
   "metadata": {},
   "outputs": [
    {
     "name": "stdout",
     "output_type": "stream",
     "text": [
      "RSME на тестовой выборке равно 0.398\n"
     ]
    }
   ],
   "source": [
    "test_rmse_gb = np.sqrt(mse(y_test,predictions_gb))\n",
    "\n",
    "print(\"RSME на тестовой выборке равно\", round(test_rmse_gb, 3))"
   ]
  },
  {
   "cell_type": "code",
   "execution_count": 36,
   "metadata": {},
   "outputs": [
    {
     "data": {
      "text/html": [
       "<div>\n",
       "<style scoped>\n",
       "    .dataframe tbody tr th:only-of-type {\n",
       "        vertical-align: middle;\n",
       "    }\n",
       "\n",
       "    .dataframe tbody tr th {\n",
       "        vertical-align: top;\n",
       "    }\n",
       "\n",
       "    .dataframe thead th {\n",
       "        text-align: right;\n",
       "    }\n",
       "</style>\n",
       "<table border=\"1\" class=\"dataframe\">\n",
       "  <thead>\n",
       "    <tr style=\"text-align: right;\">\n",
       "      <th></th>\n",
       "      <th>fit_time</th>\n",
       "      <th>prediction_time</th>\n",
       "      <th>RMSE_test</th>\n",
       "    </tr>\n",
       "  </thead>\n",
       "  <tbody>\n",
       "    <tr>\n",
       "      <th>linear regression</th>\n",
       "      <td>9.560000</td>\n",
       "      <td>0.23000</td>\n",
       "      <td>0.650000</td>\n",
       "    </tr>\n",
       "    <tr>\n",
       "      <th>decision tree</th>\n",
       "      <td>112.002949</td>\n",
       "      <td>0.19198</td>\n",
       "      <td>0.480000</td>\n",
       "    </tr>\n",
       "    <tr>\n",
       "      <th>gradient boosting</th>\n",
       "      <td>24.850000</td>\n",
       "      <td>0.26000</td>\n",
       "      <td>0.398418</td>\n",
       "    </tr>\n",
       "  </tbody>\n",
       "</table>\n",
       "</div>"
      ],
      "text/plain": [
       "                     fit_time  prediction_time  RMSE_test\n",
       "linear regression    9.560000          0.23000   0.650000\n",
       "decision tree      112.002949          0.19198   0.480000\n",
       "gradient boosting   24.850000          0.26000   0.398418"
      ]
     },
     "execution_count": 36,
     "metadata": {},
     "output_type": "execute_result"
    }
   ],
   "source": [
    "overall_tab = pd.DataFrame(\n",
    "    {\n",
    "        'fit_time': [fit_time_lr, fit_time_dtr, fit_time_gb],\n",
    "        'prediction_time': [pred_lr_time, pred_dtr_time, pred_gb_time],\n",
    "        'RMSE_test': [rmse_lr_test, rmse_dtr_test, test_rmse_gb],\n",
    "    },\n",
    "    index=['linear regression', 'decision tree', 'gradient boosting'])\n",
    "\n",
    "overall_tab"
   ]
  },
  {
   "cell_type": "markdown",
   "metadata": {},
   "source": [
    "## Вывод\n",
    "\n",
    "Цель проекта - построение качественной модели, которая могла бы прогнозировать рыночную стоимость автомобиля. Для начала мы сделали предобработку исходных данных, заполнив пропуски и почистив датасет от выбросов. Кроме этого мы стандартизировали данные и добавили дамми-столбцы для категориальных переменных. \n",
    "\n",
    "Мы проверили 3 модели: линейную регрессию, дерево решений и градиентный бустинг. Наиболее быстрой в обучении оказалась модель линейной регрессии: время подгонки - 9.5 секунд, а наиболее медленной оказалась модель решающего дерева: время подгонки составило 112 секунд. Время предсказания наибольшее (0.19 сек.) у модели градиентного бустинга, наименьшее (0.13 сек) - у линейной регрессии. Однако наименьший RMSE на тестовой выборке показала модель градиентного бустинга, а наименьшее, наоборот - линейная регрессия (0.39 против 0.65). Таким образом, с учетом скорости подгонки модели и метрики RMSE модель градиентного бустинга является наилучшей. Итоговые показатели качества моделей можно найти в таблице overall_tab.\n"
   ]
  }
 ],
 "metadata": {
  "ExecuteTimeLog": [
   {
    "duration": 169,
    "start_time": "2021-10-05T06:29:13.597Z"
   },
   {
    "duration": 1191,
    "start_time": "2021-10-05T08:07:21.283Z"
   },
   {
    "duration": 948,
    "start_time": "2021-10-05T08:07:22.476Z"
   },
   {
    "duration": 91,
    "start_time": "2021-10-05T08:07:23.426Z"
   },
   {
    "duration": 96,
    "start_time": "2021-10-05T08:07:23.519Z"
   },
   {
    "duration": 4,
    "start_time": "2021-10-05T08:07:23.617Z"
   },
   {
    "duration": 88,
    "start_time": "2021-10-05T08:07:23.622Z"
   },
   {
    "duration": 79,
    "start_time": "2021-10-05T08:07:23.712Z"
   },
   {
    "duration": 30,
    "start_time": "2021-10-05T08:07:23.793Z"
   },
   {
    "duration": 10,
    "start_time": "2021-10-05T08:07:23.825Z"
   },
   {
    "duration": 1516,
    "start_time": "2021-10-05T08:07:23.837Z"
   },
   {
    "duration": 74,
    "start_time": "2021-10-05T08:07:25.354Z"
   },
   {
    "duration": 80,
    "start_time": "2021-10-05T08:07:25.430Z"
   },
   {
    "duration": 3,
    "start_time": "2021-10-05T08:07:25.512Z"
   },
   {
    "duration": 1497,
    "start_time": "2021-10-05T08:07:25.516Z"
   },
   {
    "duration": 4,
    "start_time": "2021-10-05T08:07:27.015Z"
   },
   {
    "duration": 749,
    "start_time": "2021-10-05T08:07:27.020Z"
   },
   {
    "duration": 796,
    "start_time": "2021-10-05T08:07:27.771Z"
   },
   {
    "duration": 120,
    "start_time": "2021-10-05T08:07:28.569Z"
   },
   {
    "duration": 252,
    "start_time": "2021-10-05T08:07:28.690Z"
   },
   {
    "duration": 128505,
    "start_time": "2021-10-05T08:07:28.944Z"
   },
   {
    "duration": 4,
    "start_time": "2021-10-05T08:09:37.451Z"
   },
   {
    "duration": 124041,
    "start_time": "2021-10-05T08:09:37.456Z"
   },
   {
    "duration": 4,
    "start_time": "2021-10-05T08:11:41.500Z"
   },
   {
    "duration": 611710,
    "start_time": "2021-10-05T08:11:41.506Z"
   },
   {
    "duration": -61,
    "start_time": "2021-10-05T08:21:53.279Z"
   },
   {
    "duration": -65,
    "start_time": "2021-10-05T08:21:53.284Z"
   },
   {
    "duration": -66,
    "start_time": "2021-10-05T08:21:53.286Z"
   }
  ],
  "kernelspec": {
   "display_name": "Python 3",
   "language": "python",
   "name": "python3"
  },
  "language_info": {
   "codemirror_mode": {
    "name": "ipython",
    "version": 3
   },
   "file_extension": ".py",
   "mimetype": "text/x-python",
   "name": "python",
   "nbconvert_exporter": "python",
   "pygments_lexer": "ipython3",
   "version": "3.8.3"
  },
  "toc": {
   "base_numbering": 1,
   "nav_menu": {},
   "number_sections": true,
   "sideBar": true,
   "skip_h1_title": true,
   "title_cell": "Table of Contents",
   "title_sidebar": "Contents",
   "toc_cell": false,
   "toc_position": {},
   "toc_section_display": true,
   "toc_window_display": false
  }
 },
 "nbformat": 4,
 "nbformat_minor": 2
}
